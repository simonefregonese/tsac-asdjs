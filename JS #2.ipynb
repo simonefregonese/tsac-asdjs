{
 "metadata": {
  "name": "JS #2"
 },
 "nbformat": 3,
 "nbformat_minor": 0,
 "worksheets": [
  {
   "cells": [
    {
     "cell_type": "markdown",
     "metadata": {},
     "source": "#Es.4"
    },
    {
     "cell_type": "code",
     "collapsed": false,
     "input": "function sumInterval(n1,n2){\n    somma=0;\n    if(n1<n2){\n    \n    }\n                            \n}",
     "language": "python",
     "metadata": {},
     "outputs": [
      {
       "metadata": {},
       "output_type": "pyout",
       "prompt_number": 6,
       "text": "undefined"
      }
     ],
     "prompt_number": 6
    },
    {
     "cell_type": "markdown",
     "metadata": {},
     "source": "#Es.6"
    },
    {
     "cell_type": "code",
     "collapsed": false,
     "input": "function div(n1,n2){\n    if((n1>0) && (n2>0)){\n    diviso=n1/2;\n    resto=n1%n2;\n    }\n    console.log(diviso.toString()+ ' con resto ' + resto.toString());\n                    \n}",
     "language": "python",
     "metadata": {},
     "outputs": [
      {
       "metadata": {},
       "output_type": "pyout",
       "prompt_number": 13,
       "text": "undefined"
      }
     ],
     "prompt_number": 13
    },
    {
     "cell_type": "code",
     "collapsed": false,
     "input": "div(8,3)",
     "language": "python",
     "metadata": {},
     "outputs": [
      {
       "output_type": "stream",
       "stream": "stdout",
       "text": "4 con resto 2\n"
      },
      {
       "metadata": {},
       "output_type": "pyout",
       "prompt_number": 14,
       "text": "undefined"
      }
     ],
     "prompt_number": 14
    },
    {
     "cell_type": "markdown",
     "metadata": {},
     "source": "#Es.8"
    },
    {
     "cell_type": "code",
     "collapsed": false,
     "input": "//?",
     "language": "python",
     "metadata": {},
     "outputs": [
      {
       "metadata": {},
       "output_type": "pyout",
       "prompt_number": 15,
       "text": "undefined"
      }
     ],
     "prompt_number": 15
    },
    {
     "cell_type": "markdown",
     "metadata": {},
     "source": "#Es.9"
    },
    {
     "cell_type": "code",
     "collapsed": false,
     "input": "function invert(a){\n    for(i=0; i<a.length; i++)\n    a[a.length]=a[i];\n    return a;               \n}",
     "language": "python",
     "metadata": {},
     "outputs": [],
     "prompt_number": "*"
    },
    {
     "cell_type": "code",
     "collapsed": false,
     "input": "array=[8,5,3];",
     "language": "python",
     "metadata": {},
     "outputs": [
      {
       "metadata": {},
       "output_type": "pyout",
       "prompt_number": 17,
       "text": "[ 8, 5, 3 ]"
      }
     ],
     "prompt_number": 17
    }
   ],
   "metadata": {}
  }
 ]
}