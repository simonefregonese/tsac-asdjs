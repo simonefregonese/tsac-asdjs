{
 "metadata": {
  "name": "JS #1"
 },
 "nbformat": 3,
 "nbformat_minor": 0,
 "worksheets": [
  {
   "cells": [
    {
     "cell_type": "markdown",
     "metadata": {},
     "source": "#Es.1"
    },
    {
     "cell_type": "code",
     "collapsed": false,
     "input": "function sommaNeg(a){\n    sum=0;\n    for(i=0;i<a.length;i++){\n        while(a[i]>=0)\n        sum=sum + a[i];\n    }\n    return sum;\n}",
     "language": "python",
     "metadata": {},
     "outputs": [
      {
       "metadata": {},
       "output_type": "pyout",
       "prompt_number": 5,
       "text": "undefined"
      }
     ],
     "prompt_number": 5
    },
    {
     "cell_type": "code",
     "collapsed": false,
     "input": "vett=[3,5,7,-5];",
     "language": "python",
     "metadata": {},
     "outputs": [
      {
       "metadata": {},
       "output_type": "pyout",
       "prompt_number": 6,
       "text": "[ 3, 5, 7, -5 ]"
      }
     ],
     "prompt_number": 6
    },
    {
     "cell_type": "markdown",
     "metadata": {},
     "source": "#Es.2"
    },
    {
     "cell_type": "code",
     "collapsed": false,
     "input": "function sumDispari(n){\n    somma=0;\n    while(n>0){\n        if(n%2!=0){\n        somma=somma + n;\n        }\n    n--;\n    }\n    return somma;                   \n}",
     "language": "python",
     "metadata": {},
     "outputs": [
      {
       "metadata": {},
       "output_type": "pyout",
       "prompt_number": 3,
       "text": "undefined"
      }
     ],
     "prompt_number": 3
    },
    {
     "cell_type": "code",
     "collapsed": false,
     "input": "sumDispari(7);",
     "language": "python",
     "metadata": {},
     "outputs": [
      {
       "metadata": {},
       "output_type": "pyout",
       "prompt_number": 4,
       "text": "16"
      }
     ],
     "prompt_number": 4
    },
    {
     "cell_type": "markdown",
     "metadata": {},
     "source": "#Es.3"
    },
    {
     "cell_type": "code",
     "collapsed": false,
     "input": "function media(a){\n    somma=0;\n    for(i=0;i<a.length;i++)\n    somma= somma + a[i];\n    return somma/i;                  \n                  \n}",
     "language": "python",
     "metadata": {},
     "outputs": [
      {
       "metadata": {},
       "output_type": "pyout",
       "prompt_number": 1,
       "text": "undefined"
      }
     ],
     "prompt_number": 1
    },
    {
     "cell_type": "code",
     "collapsed": false,
     "input": "media([3,4,5,6,7,8,9,3,2,5]);",
     "language": "python",
     "metadata": {},
     "outputs": [
      {
       "metadata": {},
       "output_type": "pyout",
       "prompt_number": 2,
       "text": "5.2"
      }
     ],
     "prompt_number": 2
    },
    {
     "cell_type": "markdown",
     "metadata": {},
     "source": "#Es.4"
    },
    {
     "cell_type": "code",
     "collapsed": false,
     "input": "function sumInterval(n1,n2){\n    somma=0;\n    if(n1<n2){\n    \n    }\n                            \n}",
     "language": "python",
     "metadata": {},
     "outputs": [],
     "prompt_number": "*"
    },
    {
     "cell_type": "markdown",
     "metadata": {},
     "source": "#Es.5"
    },
    {
     "cell_type": "code",
     "collapsed": false,
     "input": "function sumult(n1,n2){\n    mult=0;\n    if((n1>=0) && (n2>=0)){\n    for(i=0;i<n2;i++)\n    mult= n1+n1;\n    }                      \n     return mult;                  \n}",
     "language": "python",
     "metadata": {},
     "outputs": [],
     "prompt_number": "*"
    },
    {
     "cell_type": "code",
     "collapsed": false,
     "input": "sumult(5,4)",
     "language": "python",
     "metadata": {},
     "outputs": [],
     "prompt_number": "*"
    },
    {
     "cell_type": "code",
     "collapsed": false,
     "input": "",
     "language": "python",
     "metadata": {},
     "outputs": []
    }
   ],
   "metadata": {}
  }
 ]
}